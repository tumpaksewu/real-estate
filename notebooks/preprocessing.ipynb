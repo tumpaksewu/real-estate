{
 "cells": [
  {
   "cell_type": "markdown",
   "metadata": {},
   "source": [
    "### Импорты и настройка"
   ]
  },
  {
   "cell_type": "code",
   "execution_count": 1,
   "metadata": {},
   "outputs": [],
   "source": [
    "import pandas as pd\n",
    "import numpy as np\n",
    "import matplotlib.pyplot as plt\n",
    "import seaborn as sns"
   ]
  },
  {
   "cell_type": "code",
   "execution_count": 2,
   "metadata": {},
   "outputs": [],
   "source": [
    "pd.options.display.max_columns = 999\n",
    "pd.set_option('display.precision', 2)\n",
    "plt.style.use('ggplot')"
   ]
  },
  {
   "cell_type": "code",
   "execution_count": 3,
   "metadata": {},
   "outputs": [],
   "source": [
    "df = pd.read_csv(\"../src/data.csv\", index_col=0)"
   ]
  },
  {
   "cell_type": "code",
   "execution_count": 4,
   "metadata": {},
   "outputs": [],
   "source": [
    "# Меняем названия русскоязычных столбцов\n",
    "df.columns = ['ID', 'room_count', 'type', 'metro', 'address',\n",
    "       'apartment_sqm', 'house_type', 'parking', 'price', 'tel', 'description',\n",
    "       'furnish', 'rooms_sqm', 'balcony', 'windows', 'toilets',\n",
    "       'kids_pets', 'extra', 'house_name',\n",
    "       'house_series', 'ceiling_height', 'elevator', 'waste_chute',\n",
    "       'link']"
   ]
  },
  {
   "cell_type": "code",
   "execution_count": 5,
   "metadata": {},
   "outputs": [],
   "source": [
    "# Убираем все объявления не из Москвы\n",
    "df = df[df['address'].str.startswith('Москва', na=False)].reset_index(drop=True)"
   ]
  },
  {
   "cell_type": "markdown",
   "metadata": {},
   "source": [
    "### Функции для очистки данных"
   ]
  },
  {
   "cell_type": "code",
   "execution_count": 6,
   "metadata": {},
   "outputs": [],
   "source": [
    "# Вытаскиваем цену в рублях\n",
    "def convert_price(n):\n",
    "    x = n.split()\n",
    "    if '$' in x[1]:\n",
    "        return float(x[0])*90\n",
    "    if '€' in n.split()[1]:\n",
    "        return float(x[0])*100\n",
    "    else:\n",
    "        return float(x[0])\n",
    "\n",
    "df['price_cleaned'] = df['price'].map(convert_price)"
   ]
  },
  {
   "cell_type": "code",
   "execution_count": 7,
   "metadata": {},
   "outputs": [],
   "source": [
    "# Вытаскиваем общее кол-во этажей и этаж, на котором находится квартира\n",
    "# Также получаем тип дома\n",
    "def get_total_floors(x):\n",
    "    if isinstance(x, str):\n",
    "        return int(x.split('/')[1].split(',')[0])\n",
    "    return x\n",
    "\n",
    "def get_floor(x):\n",
    "    if isinstance(x, str):\n",
    "        return int(x.split('/')[0])\n",
    "    return x\n",
    "\n",
    "def get_house_type(x):\n",
    "    if isinstance(x, str):\n",
    "        try:\n",
    "            return x.split('/')[1].split(', ')[1]\n",
    "        except:\n",
    "            return np.nan\n",
    "    return x\n",
    "\n",
    "df['floor'] = df['house_type'].map(get_floor)\n",
    "df['total_floors'] = df['house_type'].map(get_total_floors)\n",
    "df['house_type'] = df['house_type'].map(get_house_type)"
   ]
  },
  {
   "cell_type": "code",
   "execution_count": 8,
   "metadata": {},
   "outputs": [],
   "source": [
    "# Оставляем только общий метраж квартиры\n",
    "df.apartment_sqm = df.apartment_sqm.map(lambda x: float(x.split('/')[0]))"
   ]
  },
  {
   "cell_type": "code",
   "execution_count": 9,
   "metadata": {},
   "outputs": [],
   "source": [
    "# Получаем время от метро (приводим все значения к времени пешком)\n",
    "def get_mins_from_metro(x):\n",
    "    try:\n",
    "        mins = x.split('(')[1].split(' ')[0]\n",
    "        if x.split('мин ')[1] == 'на машине)':\n",
    "            return int(mins)*4\n",
    "        return int(mins)\n",
    "    except:\n",
    "        return np.nan\n",
    "\n",
    "def fix_metro(x):\n",
    "    if isinstance(x, str):\n",
    "        return x.split(' (')[0]\n",
    "    return x\n",
    "\n",
    "df['mins_from_metro'] = df['metro'].map(get_mins_from_metro)\n",
    "df['metro'] = df['metro'].map(fix_metro)"
   ]
  },
  {
   "cell_type": "code",
   "execution_count": 10,
   "metadata": {},
   "outputs": [],
   "source": [
    "# Фиксим кол-во комнат\n",
    "def fix_rooms(x):\n",
    "    if isinstance(x, str):\n",
    "        return x.split(',')[0]\n",
    "    return x\n",
    "\n",
    "df.room_count = df.room_count.map(fix_rooms)\n",
    "df['room_count'] = df['room_count'].astype(float)"
   ]
  },
  {
   "cell_type": "code",
   "execution_count": 11,
   "metadata": {},
   "outputs": [],
   "source": [
    "# Правим нереалистичные значения высоты потолков\n",
    "def fix_ceiling(x):\n",
    "    if str(x) != 'nan':\n",
    "        if x >= 100:\n",
    "            return x/100\n",
    "        if x >= 10:\n",
    "            return x/10\n",
    "    return x\n",
    "\n",
    "df.ceiling_height = df.ceiling_height.map(fix_ceiling)"
   ]
  },
  {
   "cell_type": "code",
   "execution_count": 12,
   "metadata": {},
   "outputs": [],
   "source": [
    "# Получаем общее кол-во балконов и лоджий\n",
    "def get_balconies(x):\n",
    "    if isinstance(x, str):\n",
    "        return x.split('(')[1].split(')')[0]\n",
    "    return x\n",
    "\n",
    "df.balcony = df.balcony.map(get_balconies)\n",
    "df['balcony'] = df['balcony'].astype(float)"
   ]
  },
  {
   "cell_type": "code",
   "execution_count": 13,
   "metadata": {},
   "outputs": [],
   "source": [
    "# Выделяем признак \"является ЖК\"\n",
    "def check_jk(x):\n",
    "    if str(x) == 'nan':\n",
    "        return False\n",
    "    else:\n",
    "        return True\n",
    "\n",
    "df['is_jk'] = df.house_name.map(check_jk)\n",
    "df['is_jk'] = df['is_jk'].astype(bool)"
   ]
  },
  {
   "cell_type": "code",
   "execution_count": 14,
   "metadata": {},
   "outputs": [],
   "source": [
    "# Считаем общее кол-во санузлов\n",
    "import re\n",
    "\n",
    "def count_toilets_els(x):\n",
    "    if isinstance(x, str):\n",
    "        numbers = re.findall(r'\\d+', x)\n",
    "        return sum(map(int, numbers)) if numbers else np.nan\n",
    "    return np.nan\n",
    "\n",
    "\n",
    "df['toilet_count'] = df['toilets'].map(count_toilets_els)\n",
    "df['elevator'] = df['elevator'].map(count_toilets_els)"
   ]
  },
  {
   "cell_type": "code",
   "execution_count": 15,
   "metadata": {},
   "outputs": [],
   "source": [
    "# Правим категории парковки, удаляем наны\n",
    "df['parking'] = df['parking'].replace(to_replace ='открытая', value = 'наземная хаотичная')\n",
    "df['parking'] = df['parking'].replace(to_replace ='наземная', value = 'платная во дворе')\n",
    "df['parking'] = df['parking'].fillna('наземная хаотичная')"
   ]
  },
  {
   "cell_type": "code",
   "execution_count": 16,
   "metadata": {},
   "outputs": [],
   "source": [
    "# Избавляемся от лишних признаков\n",
    "df = df[['ID', 'room_count', 'metro', 'mins_from_metro',\n",
    "       'apartment_sqm', 'house_type', 'parking',\n",
    "       'furnish', 'balcony', 'windows', 'toilet_count', 'kids_pets',\n",
    "       'extra', 'is_jk', 'ceiling_height', 'elevator',\n",
    "       'waste_chute', 'price_cleaned','link']]"
   ]
  },
  {
   "cell_type": "markdown",
   "metadata": {},
   "source": [
    "### Заполнение пропусков"
   ]
  },
  {
   "cell_type": "code",
   "execution_count": 17,
   "metadata": {},
   "outputs": [
    {
     "data": {
      "image/png": "[encoded data removed]",
      "text/plain": [
       "<Figure size 640x480 with 1 Axes>"
      ]
     },
     "metadata": {},
     "output_type": "display_data"
    }
   ],
   "source": [
    "# Смотрим пропуски\n",
    "missing_values = (df.isna().sum() / len(df) * 100).sort_values(ascending=True)\n",
    "missing_values[missing_values > 0].plot(kind='barh')\n",
    "plt.title('Доля пропущенных значений по столбцам', fontsize=14, fontweight='bold')\n",
    "plt.xlabel('% от общего кол-ва записей', fontsize=10)\n",
    "plt.xlim(0, 100);"
   ]
  },
  {
   "cell_type": "code",
   "execution_count": 18,
   "metadata": {},
   "outputs": [],
   "source": [
    "# Меняем пропуски в признаке \"туалеты\" на 1, как наиболее вероятный\n",
    "df['toilet_count'] = df['toilet_count'].fillna(1)"
   ]
  },
  {
   "cell_type": "code",
   "execution_count": 19,
   "metadata": {},
   "outputs": [],
   "source": [
    "# Меняем пропуски в признаке \"кол-во комнат\" на 1, как наиболее вероятное\n",
    "df['room_count'] = df['room_count'].fillna(1)"
   ]
  },
  {
   "cell_type": "code",
   "execution_count": 20,
   "metadata": {},
   "outputs": [],
   "source": [
    "# Проставляем в пропуски в признаке \"Ремонт\" значение \"Без ремонта\", т.к. соответствующего чекбокса нет в Циане\n",
    "df['furnish'] = df['furnish'].fillna('Без ремонта')"
   ]
  },
  {
   "cell_type": "code",
   "execution_count": 21,
   "metadata": {},
   "outputs": [],
   "source": [
    "# Заполняем пропуски в признаке \"высота потолков\" медианным значением\n",
    "df['ceiling_height'] = df['ceiling_height'].fillna(df['ceiling_height'].median())"
   ]
  },
  {
   "cell_type": "code",
   "execution_count": 22,
   "metadata": {},
   "outputs": [],
   "source": [
    "# Предполагаем, что если в признаке \"Мусоропровод\" пропуск, значит мусоропровода нет\n",
    "df['waste_chute'] = df['waste_chute'].fillna('Нет')"
   ]
  },
  {
   "cell_type": "code",
   "execution_count": 23,
   "metadata": {},
   "outputs": [],
   "source": [
    "# Если балкон не указан, то его скорее всего нет\n",
    "df['balcony'] = df['balcony'].fillna(0)"
   ]
  },
  {
   "cell_type": "code",
   "execution_count": 24,
   "metadata": {},
   "outputs": [],
   "source": [
    "# В пропуски по признаку \"Вид из окна\" поставили наиболее нейтральное значение\n",
    "df['windows'] = df['windows'].fillna('На улицу и двор')"
   ]
  },
  {
   "cell_type": "code",
   "execution_count": 25,
   "metadata": {},
   "outputs": [],
   "source": [
    "# При заполнении карточки квартиры на Циан нет возможности четко указать \"нельзя с детьми или животными\" (нет такого чекбокса)\n",
    "df['kids_pets'] = df['kids_pets'].fillna('Нет')"
   ]
  },
  {
   "cell_type": "code",
   "execution_count": 26,
   "metadata": {},
   "outputs": [],
   "source": [
    "# По статистике, в 30% домов в Мск нет лифтов: https://www.perplexity.ai/search/v-kakoi-dole-domov-v-moskve-ne-CexcM.YkQDqGhmUfib0g1g\n",
    "df['elevator'] = df['elevator'].fillna(0)"
   ]
  },
  {
   "cell_type": "code",
   "execution_count": 27,
   "metadata": {},
   "outputs": [],
   "source": [
    "# Указываем значение моды для типа дома + по статистике, 40% домов в Мск панельные: https://realty.yandex.ru/journal/post/tipovye-panelki-samye-populyarnye-moskovskie-serii-ot-hrushchyova-do-nashih-dney/\n",
    "# Дропаем нестандартные типы домов\n",
    "df = df[df['house_type'] != 'Деревянный']\n",
    "df = df[df['house_type'] != 'Щитовой']\n",
    "df['house_type'] = df['house_type'].fillna('Панельный')"
   ]
  },
  {
   "cell_type": "code",
   "execution_count": 28,
   "metadata": {},
   "outputs": [],
   "source": [
    "# Если метро не указано, скорее всего квартира находится слишком далеко от метро (вручную проверяли на примерах)\n",
    "df['metro'] = df['metro'].fillna('Нет метро')"
   ]
  },
  {
   "cell_type": "code",
   "execution_count": 29,
   "metadata": {},
   "outputs": [],
   "source": [
    "# Заполняем пропуски в \"минуты от метро\", заодно превращаем признак в близко-далеко\n",
    "df['mins_from_metro'] = df['mins_from_metro'].fillna(999)\n",
    "df['close_to_metro'] = df['mins_from_metro'].map(lambda x: True if x < 20 else False)\n",
    "df = df.drop('mins_from_metro', axis=1)"
   ]
  },
  {
   "cell_type": "code",
   "execution_count": 30,
   "metadata": {},
   "outputs": [],
   "source": [
    "# Кодируем данные в extra методом one-hot (попутно избавляясь от nan) и удаляем изначальный столбец\n",
    "df = df.join(df['extra'].str.get_dummies(sep=', '))\n",
    "df = df.rename(columns={'Мебель в комнатах':'furnished_rooms', \n",
    "                        'Мебель на кухне':'furnished_kitchen',\n",
    "                        'Ванна':'bath', \n",
    "                        'Душевая кабина':'shower', \n",
    "                        'Стиральная машина':'wash_machine', \n",
    "                        'Кондиционер':'aircon', \n",
    "                        'Посудомоечная машина':'dishwasher', \n",
    "                        'Телевизор':'tv', \n",
    "                        'Холодильник':'fridge', \n",
    "                        'Интернет':'internet', \n",
    "                        'Телефон':'telephone'})\n",
    "df = df.drop('extra', axis=1)"
   ]
  },
  {
   "cell_type": "code",
   "execution_count": 31,
   "metadata": {},
   "outputs": [
    {
     "data": {
      "text/plain": [
       "array([0])"
      ]
     },
     "execution_count": 31,
     "metadata": {},
     "output_type": "execute_result"
    }
   ],
   "source": [
    "# Проверяем на отсутствие пропусков\n",
    "df.isna().sum().unique()"
   ]
  },
  {
   "cell_type": "code",
   "execution_count": 32,
   "metadata": {},
   "outputs": [],
   "source": [
    "# Экспортируем датасет\n",
    "df.to_csv('../data/data.csv', index=False)"
   ]
  }
 ],
 "metadata": {
  "kernelspec": {
   "display_name": "base",
   "language": "python",
   "name": "python3"
  },
  "language_info": {
   "codemirror_mode": {
    "name": "ipython",
    "version": 3
   },
   "file_extension": ".py",
   "mimetype": "text/x-python",
   "name": "python",
   "nbconvert_exporter": "python",
   "pygments_lexer": "ipython3",
   "version": "3.12.8"
  }
 },
 "nbformat": 4,
 "nbformat_minor": 2
}
